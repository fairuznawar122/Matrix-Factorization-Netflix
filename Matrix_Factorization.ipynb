{
  "nbformat": 4,
  "nbformat_minor": 0,
  "metadata": {
    "colab": {
      "name": "Matrix Factorization.ipynb",
      "provenance": [],
      "collapsed_sections": []
    },
    "kernelspec": {
      "display_name": "Python 3",
      "name": "python3"
    },
    "language_info": {
      "name": "python"
    }
  },
  "cells": [
    {
      "cell_type": "code",
      "metadata": {
        "colab": {
          "base_uri": "https://localhost:8080/",
          "height": 80
        },
        "id": "bxn8TtOzHGNI",
        "outputId": "f6bb034c-35bc-4161-c51a-2a11733034a1"
      },
      "source": [
        "import pandas as pd\n",
        "import numpy as np\n",
        "#df= pd.read_csv('',dtype=np.float32,converters={'Index':np.uint16},index_col=[0])\n",
        "id = pd.read_csv('/content/drive/MyDrive/Soft Com Lab/Assignment1/index_id.csv')\n",
        "id.head(5)\n",
        "id.loc[id['Student Name']=='Fairuz Nawar']"
      ],
      "execution_count": null,
      "outputs": [
        {
          "output_type": "execute_result",
          "data": {
            "text/html": [
              "<div>\n",
              "<style scoped>\n",
              "    .dataframe tbody tr th:only-of-type {\n",
              "        vertical-align: middle;\n",
              "    }\n",
              "\n",
              "    .dataframe tbody tr th {\n",
              "        vertical-align: top;\n",
              "    }\n",
              "\n",
              "    .dataframe thead th {\n",
              "        text-align: right;\n",
              "    }\n",
              "</style>\n",
              "<table border=\"1\" class=\"dataframe\">\n",
              "  <thead>\n",
              "    <tr style=\"text-align: right;\">\n",
              "      <th></th>\n",
              "      <th>Student Id</th>\n",
              "      <th>Student Name</th>\n",
              "      <th>Index Id</th>\n",
              "    </tr>\n",
              "  </thead>\n",
              "  <tbody>\n",
              "    <tr>\n",
              "      <th>30</th>\n",
              "      <td>170104122</td>\n",
              "      <td>Fairuz Nawar</td>\n",
              "      <td>231</td>\n",
              "    </tr>\n",
              "  </tbody>\n",
              "</table>\n",
              "</div>"
            ],
            "text/plain": [
              "    Student Id  Student Name  Index Id\n",
              "30   170104122  Fairuz Nawar       231"
            ]
          },
          "metadata": {
            "tags": []
          },
          "execution_count": 2
        }
      ]
    },
    {
      "cell_type": "markdown",
      "metadata": {
        "id": "Ynlpm3ZxbC6r"
      },
      "source": [
        "# **Dataset Creation**"
      ]
    },
    {
      "cell_type": "markdown",
      "metadata": {
        "id": "f1wkwLdkbPS_"
      },
      "source": [
        "Loading Dataset"
      ]
    },
    {
      "cell_type": "code",
      "metadata": {
        "colab": {
          "base_uri": "https://localhost:8080/"
        },
        "id": "4e4T78RITZAF",
        "outputId": "2c9a569e-aa63-4b49-e666-28bff67afad7"
      },
      "source": [
        "index_id = 231\n",
        "df = pd.read_csv('/content/drive/MyDrive/Soft Com Lab/Assignment1/Matrix_Factorization_Assignment.csv')\n",
        "print(\"Original Shape :\",df.shape)\n"
      ],
      "execution_count": null,
      "outputs": [
        {
          "output_type": "stream",
          "text": [
            "Original Shape : (45000, 5001)\n"
          ],
          "name": "stdout"
        }
      ]
    },
    {
      "cell_type": "markdown",
      "metadata": {
        "id": "HPWQsY4kbTkW"
      },
      "source": [
        "Dropping Rows"
      ]
    },
    {
      "cell_type": "code",
      "metadata": {
        "colab": {
          "base_uri": "https://localhost:8080/"
        },
        "id": "kupymfOLYvOo",
        "outputId": "c17a44da-014b-4547-fc43-e946a7ea988a"
      },
      "source": [
        "df.head(5)\n",
        "df.drop(df[df['Index']%index_id==0].index,inplace=True)\n",
        "df.shape"
      ],
      "execution_count": null,
      "outputs": [
        {
          "output_type": "execute_result",
          "data": {
            "text/plain": [
              "(44807, 5001)"
            ]
          },
          "metadata": {
            "tags": []
          },
          "execution_count": 4
        }
      ]
    },
    {
      "cell_type": "markdown",
      "metadata": {
        "id": "Rzo4-Ps4bafe"
      },
      "source": [
        "Dropping Columns"
      ]
    },
    {
      "cell_type": "code",
      "metadata": {
        "colab": {
          "base_uri": "https://localhost:8080/"
        },
        "id": "kTbZk2BsYGru",
        "outputId": "5d19dd3c-127d-43af-fedd-29a68dcf7dc6"
      },
      "source": [
        "ColumnList = df.columns.to_list()\n",
        "delColumns=[]\n",
        "for col in ColumnList:\n",
        "  if col.isdigit() and not int(col)==0 and int(col)%index_id==0:\n",
        "    delColumns.append(col)\n",
        "\n",
        "df.drop(columns=delColumns,inplace=True)\n",
        "\n",
        "print(\"Created Dataset Shape :\",df.shape)"
      ],
      "execution_count": null,
      "outputs": [
        {
          "output_type": "stream",
          "text": [
            "Created Dataset Shape : (44807, 4980)\n"
          ],
          "name": "stdout"
        }
      ]
    },
    {
      "cell_type": "markdown",
      "metadata": {
        "id": "-uW9fH0FhZBm"
      },
      "source": [
        "Filling Null Values"
      ]
    },
    {
      "cell_type": "code",
      "metadata": {
        "colab": {
          "base_uri": "https://localhost:8080/",
          "height": 269
        },
        "id": "63TaOR1zRv9h",
        "outputId": "4fe0a495-7d57-450e-ac16-576c0707c417"
      },
      "source": [
        "fdf=df\n",
        "fdf=fdf.fillna(fdf.mean())\n",
        "print(fdf.shape)\n",
        "fdf.head()\n"
      ],
      "execution_count": null,
      "outputs": [
        {
          "output_type": "stream",
          "text": [
            "(44807, 4980)\n"
          ],
          "name": "stdout"
        },
        {
          "output_type": "execute_result",
          "data": {
            "text/html": [
              "<div>\n",
              "<style scoped>\n",
              "    .dataframe tbody tr th:only-of-type {\n",
              "        vertical-align: middle;\n",
              "    }\n",
              "\n",
              "    .dataframe tbody tr th {\n",
              "        vertical-align: top;\n",
              "    }\n",
              "\n",
              "    .dataframe thead th {\n",
              "        text-align: right;\n",
              "    }\n",
              "</style>\n",
              "<table border=\"1\" class=\"dataframe\">\n",
              "  <thead>\n",
              "    <tr style=\"text-align: right;\">\n",
              "      <th></th>\n",
              "      <th>Index</th>\n",
              "      <th>0</th>\n",
              "      <th>1</th>\n",
              "      <th>2</th>\n",
              "      <th>3</th>\n",
              "      <th>4</th>\n",
              "      <th>5</th>\n",
              "      <th>6</th>\n",
              "      <th>7</th>\n",
              "      <th>8</th>\n",
              "      <th>9</th>\n",
              "      <th>10</th>\n",
              "      <th>11</th>\n",
              "      <th>12</th>\n",
              "      <th>13</th>\n",
              "      <th>14</th>\n",
              "      <th>15</th>\n",
              "      <th>16</th>\n",
              "      <th>17</th>\n",
              "      <th>18</th>\n",
              "      <th>19</th>\n",
              "      <th>20</th>\n",
              "      <th>21</th>\n",
              "      <th>22</th>\n",
              "      <th>23</th>\n",
              "      <th>24</th>\n",
              "      <th>25</th>\n",
              "      <th>26</th>\n",
              "      <th>27</th>\n",
              "      <th>28</th>\n",
              "      <th>29</th>\n",
              "      <th>30</th>\n",
              "      <th>31</th>\n",
              "      <th>32</th>\n",
              "      <th>33</th>\n",
              "      <th>34</th>\n",
              "      <th>35</th>\n",
              "      <th>36</th>\n",
              "      <th>37</th>\n",
              "      <th>38</th>\n",
              "      <th>...</th>\n",
              "      <th>4960</th>\n",
              "      <th>4961</th>\n",
              "      <th>4962</th>\n",
              "      <th>4963</th>\n",
              "      <th>4964</th>\n",
              "      <th>4965</th>\n",
              "      <th>4966</th>\n",
              "      <th>4967</th>\n",
              "      <th>4968</th>\n",
              "      <th>4969</th>\n",
              "      <th>4970</th>\n",
              "      <th>4971</th>\n",
              "      <th>4972</th>\n",
              "      <th>4973</th>\n",
              "      <th>4974</th>\n",
              "      <th>4975</th>\n",
              "      <th>4976</th>\n",
              "      <th>4977</th>\n",
              "      <th>4978</th>\n",
              "      <th>4979</th>\n",
              "      <th>4980</th>\n",
              "      <th>4981</th>\n",
              "      <th>4982</th>\n",
              "      <th>4983</th>\n",
              "      <th>4984</th>\n",
              "      <th>4985</th>\n",
              "      <th>4986</th>\n",
              "      <th>4987</th>\n",
              "      <th>4988</th>\n",
              "      <th>4989</th>\n",
              "      <th>4990</th>\n",
              "      <th>4991</th>\n",
              "      <th>4992</th>\n",
              "      <th>4993</th>\n",
              "      <th>4994</th>\n",
              "      <th>4995</th>\n",
              "      <th>4996</th>\n",
              "      <th>4997</th>\n",
              "      <th>4998</th>\n",
              "      <th>4999</th>\n",
              "    </tr>\n",
              "  </thead>\n",
              "  <tbody>\n",
              "    <tr>\n",
              "      <th>0</th>\n",
              "      <td>11071</td>\n",
              "      <td>1.000000</td>\n",
              "      <td>7.0</td>\n",
              "      <td>1.000000</td>\n",
              "      <td>9.000000</td>\n",
              "      <td>6.000000</td>\n",
              "      <td>6.000000</td>\n",
              "      <td>8.000000</td>\n",
              "      <td>4.979157</td>\n",
              "      <td>5.030551</td>\n",
              "      <td>10.000000</td>\n",
              "      <td>4.987798</td>\n",
              "      <td>4.981609</td>\n",
              "      <td>4.969749</td>\n",
              "      <td>4.000000</td>\n",
              "      <td>6.000000</td>\n",
              "      <td>10.000000</td>\n",
              "      <td>0.000000</td>\n",
              "      <td>4.978369</td>\n",
              "      <td>5.000000</td>\n",
              "      <td>4.993285</td>\n",
              "      <td>1.0000</td>\n",
              "      <td>5.000411</td>\n",
              "      <td>4.998775</td>\n",
              "      <td>5.011165</td>\n",
              "      <td>8.000000</td>\n",
              "      <td>4.977525</td>\n",
              "      <td>2.000000</td>\n",
              "      <td>5.028161</td>\n",
              "      <td>5.00026</td>\n",
              "      <td>5.000000</td>\n",
              "      <td>1.000000</td>\n",
              "      <td>9.000000</td>\n",
              "      <td>5.00736</td>\n",
              "      <td>4.978488</td>\n",
              "      <td>4.990944</td>\n",
              "      <td>6.000000</td>\n",
              "      <td>3.00000</td>\n",
              "      <td>5.000507</td>\n",
              "      <td>0.000000</td>\n",
              "      <td>...</td>\n",
              "      <td>1.000000</td>\n",
              "      <td>7.000000</td>\n",
              "      <td>10.0</td>\n",
              "      <td>5.026398</td>\n",
              "      <td>4.996038</td>\n",
              "      <td>4.000000</td>\n",
              "      <td>5.000000</td>\n",
              "      <td>5.008702</td>\n",
              "      <td>7.0</td>\n",
              "      <td>6.0</td>\n",
              "      <td>7.000000</td>\n",
              "      <td>10.000000</td>\n",
              "      <td>8.000000</td>\n",
              "      <td>7.000000</td>\n",
              "      <td>4.993817</td>\n",
              "      <td>5.023786</td>\n",
              "      <td>1.000000</td>\n",
              "      <td>9.000000</td>\n",
              "      <td>5.00711</td>\n",
              "      <td>4.988065</td>\n",
              "      <td>9.00000</td>\n",
              "      <td>5.025133</td>\n",
              "      <td>5.038489</td>\n",
              "      <td>7.000000</td>\n",
              "      <td>1.000000</td>\n",
              "      <td>9.000000</td>\n",
              "      <td>10.000000</td>\n",
              "      <td>1.000000</td>\n",
              "      <td>1.000000</td>\n",
              "      <td>4.994879</td>\n",
              "      <td>2.000000</td>\n",
              "      <td>5.018653</td>\n",
              "      <td>7.000000</td>\n",
              "      <td>9.000000</td>\n",
              "      <td>6.000000</td>\n",
              "      <td>10.00000</td>\n",
              "      <td>7.0</td>\n",
              "      <td>5.026751</td>\n",
              "      <td>5.015137</td>\n",
              "      <td>4.976774</td>\n",
              "    </tr>\n",
              "    <tr>\n",
              "      <th>1</th>\n",
              "      <td>19900</td>\n",
              "      <td>5.007433</td>\n",
              "      <td>3.0</td>\n",
              "      <td>3.000000</td>\n",
              "      <td>6.000000</td>\n",
              "      <td>5.011414</td>\n",
              "      <td>3.000000</td>\n",
              "      <td>5.000000</td>\n",
              "      <td>7.000000</td>\n",
              "      <td>9.000000</td>\n",
              "      <td>5.000849</td>\n",
              "      <td>0.000000</td>\n",
              "      <td>8.000000</td>\n",
              "      <td>4.969749</td>\n",
              "      <td>8.000000</td>\n",
              "      <td>4.984697</td>\n",
              "      <td>5.000000</td>\n",
              "      <td>2.000000</td>\n",
              "      <td>4.978369</td>\n",
              "      <td>2.000000</td>\n",
              "      <td>7.000000</td>\n",
              "      <td>4.9916</td>\n",
              "      <td>8.000000</td>\n",
              "      <td>2.000000</td>\n",
              "      <td>3.000000</td>\n",
              "      <td>6.000000</td>\n",
              "      <td>0.000000</td>\n",
              "      <td>5.026503</td>\n",
              "      <td>1.000000</td>\n",
              "      <td>5.00026</td>\n",
              "      <td>4.976034</td>\n",
              "      <td>5.008794</td>\n",
              "      <td>5.000293</td>\n",
              "      <td>5.00736</td>\n",
              "      <td>2.000000</td>\n",
              "      <td>9.000000</td>\n",
              "      <td>6.000000</td>\n",
              "      <td>4.96311</td>\n",
              "      <td>9.000000</td>\n",
              "      <td>4.993239</td>\n",
              "      <td>...</td>\n",
              "      <td>9.000000</td>\n",
              "      <td>5.021526</td>\n",
              "      <td>9.0</td>\n",
              "      <td>5.026398</td>\n",
              "      <td>4.996038</td>\n",
              "      <td>5.010392</td>\n",
              "      <td>6.000000</td>\n",
              "      <td>0.000000</td>\n",
              "      <td>0.0</td>\n",
              "      <td>7.0</td>\n",
              "      <td>0.000000</td>\n",
              "      <td>8.000000</td>\n",
              "      <td>10.000000</td>\n",
              "      <td>0.000000</td>\n",
              "      <td>4.993817</td>\n",
              "      <td>2.000000</td>\n",
              "      <td>0.000000</td>\n",
              "      <td>4.989146</td>\n",
              "      <td>5.00711</td>\n",
              "      <td>8.000000</td>\n",
              "      <td>4.99471</td>\n",
              "      <td>5.025133</td>\n",
              "      <td>5.038489</td>\n",
              "      <td>7.000000</td>\n",
              "      <td>9.000000</td>\n",
              "      <td>6.000000</td>\n",
              "      <td>4.986236</td>\n",
              "      <td>4.978087</td>\n",
              "      <td>7.000000</td>\n",
              "      <td>6.000000</td>\n",
              "      <td>4.937933</td>\n",
              "      <td>5.018653</td>\n",
              "      <td>5.029919</td>\n",
              "      <td>5.000000</td>\n",
              "      <td>9.000000</td>\n",
              "      <td>3.00000</td>\n",
              "      <td>0.0</td>\n",
              "      <td>5.026751</td>\n",
              "      <td>9.000000</td>\n",
              "      <td>2.000000</td>\n",
              "    </tr>\n",
              "    <tr>\n",
              "      <th>2</th>\n",
              "      <td>25325</td>\n",
              "      <td>5.000000</td>\n",
              "      <td>7.0</td>\n",
              "      <td>5.006567</td>\n",
              "      <td>9.000000</td>\n",
              "      <td>5.000000</td>\n",
              "      <td>6.000000</td>\n",
              "      <td>5.000000</td>\n",
              "      <td>0.000000</td>\n",
              "      <td>5.030551</td>\n",
              "      <td>10.000000</td>\n",
              "      <td>7.000000</td>\n",
              "      <td>4.981609</td>\n",
              "      <td>4.969749</td>\n",
              "      <td>0.000000</td>\n",
              "      <td>9.000000</td>\n",
              "      <td>4.000000</td>\n",
              "      <td>4.000000</td>\n",
              "      <td>3.000000</td>\n",
              "      <td>5.000945</td>\n",
              "      <td>1.000000</td>\n",
              "      <td>0.0000</td>\n",
              "      <td>5.000411</td>\n",
              "      <td>4.000000</td>\n",
              "      <td>1.000000</td>\n",
              "      <td>4.992243</td>\n",
              "      <td>4.977525</td>\n",
              "      <td>9.000000</td>\n",
              "      <td>7.000000</td>\n",
              "      <td>5.00026</td>\n",
              "      <td>6.000000</td>\n",
              "      <td>5.008794</td>\n",
              "      <td>6.000000</td>\n",
              "      <td>1.00000</td>\n",
              "      <td>4.978488</td>\n",
              "      <td>6.000000</td>\n",
              "      <td>6.000000</td>\n",
              "      <td>4.96311</td>\n",
              "      <td>0.000000</td>\n",
              "      <td>4.993239</td>\n",
              "      <td>...</td>\n",
              "      <td>5.003667</td>\n",
              "      <td>6.000000</td>\n",
              "      <td>2.0</td>\n",
              "      <td>10.000000</td>\n",
              "      <td>4.996038</td>\n",
              "      <td>5.010392</td>\n",
              "      <td>9.000000</td>\n",
              "      <td>5.008702</td>\n",
              "      <td>2.0</td>\n",
              "      <td>2.0</td>\n",
              "      <td>4.982961</td>\n",
              "      <td>9.000000</td>\n",
              "      <td>5.005339</td>\n",
              "      <td>4.996553</td>\n",
              "      <td>1.000000</td>\n",
              "      <td>5.023786</td>\n",
              "      <td>9.000000</td>\n",
              "      <td>2.000000</td>\n",
              "      <td>9.00000</td>\n",
              "      <td>1.000000</td>\n",
              "      <td>4.99471</td>\n",
              "      <td>5.025133</td>\n",
              "      <td>2.000000</td>\n",
              "      <td>8.000000</td>\n",
              "      <td>6.000000</td>\n",
              "      <td>5.029666</td>\n",
              "      <td>4.986236</td>\n",
              "      <td>4.978087</td>\n",
              "      <td>4.987601</td>\n",
              "      <td>4.994879</td>\n",
              "      <td>4.937933</td>\n",
              "      <td>9.000000</td>\n",
              "      <td>10.000000</td>\n",
              "      <td>4.987774</td>\n",
              "      <td>4.998506</td>\n",
              "      <td>9.00000</td>\n",
              "      <td>0.0</td>\n",
              "      <td>5.026751</td>\n",
              "      <td>5.015137</td>\n",
              "      <td>7.000000</td>\n",
              "    </tr>\n",
              "    <tr>\n",
              "      <th>3</th>\n",
              "      <td>31006</td>\n",
              "      <td>3.000000</td>\n",
              "      <td>4.0</td>\n",
              "      <td>1.000000</td>\n",
              "      <td>4.997907</td>\n",
              "      <td>5.000000</td>\n",
              "      <td>5.002898</td>\n",
              "      <td>10.000000</td>\n",
              "      <td>4.979157</td>\n",
              "      <td>8.000000</td>\n",
              "      <td>0.000000</td>\n",
              "      <td>4.987798</td>\n",
              "      <td>4.981609</td>\n",
              "      <td>4.000000</td>\n",
              "      <td>1.000000</td>\n",
              "      <td>5.000000</td>\n",
              "      <td>4.964516</td>\n",
              "      <td>3.000000</td>\n",
              "      <td>5.000000</td>\n",
              "      <td>4.000000</td>\n",
              "      <td>3.000000</td>\n",
              "      <td>5.0000</td>\n",
              "      <td>8.000000</td>\n",
              "      <td>7.000000</td>\n",
              "      <td>5.011165</td>\n",
              "      <td>10.000000</td>\n",
              "      <td>6.000000</td>\n",
              "      <td>8.000000</td>\n",
              "      <td>5.000000</td>\n",
              "      <td>5.00026</td>\n",
              "      <td>8.000000</td>\n",
              "      <td>5.008794</td>\n",
              "      <td>4.000000</td>\n",
              "      <td>5.00736</td>\n",
              "      <td>4.978488</td>\n",
              "      <td>7.000000</td>\n",
              "      <td>3.000000</td>\n",
              "      <td>4.96311</td>\n",
              "      <td>5.000507</td>\n",
              "      <td>4.993239</td>\n",
              "      <td>...</td>\n",
              "      <td>10.000000</td>\n",
              "      <td>8.000000</td>\n",
              "      <td>0.0</td>\n",
              "      <td>5.026398</td>\n",
              "      <td>9.000000</td>\n",
              "      <td>5.010392</td>\n",
              "      <td>5.019524</td>\n",
              "      <td>5.008702</td>\n",
              "      <td>2.0</td>\n",
              "      <td>2.0</td>\n",
              "      <td>5.000000</td>\n",
              "      <td>4.991493</td>\n",
              "      <td>5.005339</td>\n",
              "      <td>2.000000</td>\n",
              "      <td>7.000000</td>\n",
              "      <td>5.023786</td>\n",
              "      <td>2.000000</td>\n",
              "      <td>4.989146</td>\n",
              "      <td>2.00000</td>\n",
              "      <td>1.000000</td>\n",
              "      <td>4.00000</td>\n",
              "      <td>4.000000</td>\n",
              "      <td>5.038489</td>\n",
              "      <td>4.981101</td>\n",
              "      <td>4.000000</td>\n",
              "      <td>5.029666</td>\n",
              "      <td>4.986236</td>\n",
              "      <td>4.978087</td>\n",
              "      <td>4.987601</td>\n",
              "      <td>6.000000</td>\n",
              "      <td>3.000000</td>\n",
              "      <td>2.000000</td>\n",
              "      <td>1.000000</td>\n",
              "      <td>3.000000</td>\n",
              "      <td>4.998506</td>\n",
              "      <td>4.98506</td>\n",
              "      <td>2.0</td>\n",
              "      <td>5.026751</td>\n",
              "      <td>4.000000</td>\n",
              "      <td>2.000000</td>\n",
              "    </tr>\n",
              "    <tr>\n",
              "      <th>4</th>\n",
              "      <td>37002</td>\n",
              "      <td>2.000000</td>\n",
              "      <td>0.0</td>\n",
              "      <td>5.000000</td>\n",
              "      <td>0.000000</td>\n",
              "      <td>3.000000</td>\n",
              "      <td>5.000000</td>\n",
              "      <td>4.997852</td>\n",
              "      <td>4.979157</td>\n",
              "      <td>5.030551</td>\n",
              "      <td>0.000000</td>\n",
              "      <td>6.000000</td>\n",
              "      <td>4.981609</td>\n",
              "      <td>10.000000</td>\n",
              "      <td>4.979156</td>\n",
              "      <td>4.984697</td>\n",
              "      <td>2.000000</td>\n",
              "      <td>5.010988</td>\n",
              "      <td>8.000000</td>\n",
              "      <td>6.000000</td>\n",
              "      <td>4.993285</td>\n",
              "      <td>4.9916</td>\n",
              "      <td>5.000411</td>\n",
              "      <td>4.998775</td>\n",
              "      <td>10.000000</td>\n",
              "      <td>10.000000</td>\n",
              "      <td>4.977525</td>\n",
              "      <td>5.026503</td>\n",
              "      <td>7.000000</td>\n",
              "      <td>3.00000</td>\n",
              "      <td>6.000000</td>\n",
              "      <td>1.000000</td>\n",
              "      <td>5.000293</td>\n",
              "      <td>1.00000</td>\n",
              "      <td>4.978488</td>\n",
              "      <td>5.000000</td>\n",
              "      <td>5.015219</td>\n",
              "      <td>4.00000</td>\n",
              "      <td>5.000507</td>\n",
              "      <td>6.000000</td>\n",
              "      <td>...</td>\n",
              "      <td>5.003667</td>\n",
              "      <td>0.000000</td>\n",
              "      <td>1.0</td>\n",
              "      <td>1.000000</td>\n",
              "      <td>10.000000</td>\n",
              "      <td>5.010392</td>\n",
              "      <td>10.000000</td>\n",
              "      <td>5.008702</td>\n",
              "      <td>1.0</td>\n",
              "      <td>2.0</td>\n",
              "      <td>10.000000</td>\n",
              "      <td>2.000000</td>\n",
              "      <td>6.000000</td>\n",
              "      <td>9.000000</td>\n",
              "      <td>4.993817</td>\n",
              "      <td>5.023786</td>\n",
              "      <td>5.034202</td>\n",
              "      <td>8.000000</td>\n",
              "      <td>10.00000</td>\n",
              "      <td>4.988065</td>\n",
              "      <td>4.99471</td>\n",
              "      <td>5.000000</td>\n",
              "      <td>8.000000</td>\n",
              "      <td>4.981101</td>\n",
              "      <td>5.055535</td>\n",
              "      <td>6.000000</td>\n",
              "      <td>4.986236</td>\n",
              "      <td>8.000000</td>\n",
              "      <td>10.000000</td>\n",
              "      <td>0.000000</td>\n",
              "      <td>9.000000</td>\n",
              "      <td>5.018653</td>\n",
              "      <td>5.000000</td>\n",
              "      <td>3.000000</td>\n",
              "      <td>5.000000</td>\n",
              "      <td>1.00000</td>\n",
              "      <td>6.0</td>\n",
              "      <td>6.000000</td>\n",
              "      <td>8.000000</td>\n",
              "      <td>4.976774</td>\n",
              "    </tr>\n",
              "  </tbody>\n",
              "</table>\n",
              "<p>5 rows × 4980 columns</p>\n",
              "</div>"
            ],
            "text/plain": [
              "   Index         0    1         2  ...  4996      4997      4998      4999\n",
              "0  11071  1.000000  7.0  1.000000  ...   7.0  5.026751  5.015137  4.976774\n",
              "1  19900  5.007433  3.0  3.000000  ...   0.0  5.026751  9.000000  2.000000\n",
              "2  25325  5.000000  7.0  5.006567  ...   0.0  5.026751  5.015137  7.000000\n",
              "3  31006  3.000000  4.0  1.000000  ...   2.0  5.026751  4.000000  2.000000\n",
              "4  37002  2.000000  0.0  5.000000  ...   6.0  6.000000  8.000000  4.976774\n",
              "\n",
              "[5 rows x 4980 columns]"
            ]
          },
          "metadata": {
            "tags": []
          },
          "execution_count": 6
        }
      ]
    },
    {
      "cell_type": "markdown",
      "metadata": {
        "id": "Lr_dkSZLi--G"
      },
      "source": [
        "# **Initialize and Normalize U matrix**"
      ]
    },
    {
      "cell_type": "code",
      "metadata": {
        "id": "YWKFRDXqiz3X"
      },
      "source": [
        "from sklearn.preprocessing import StandardScaler\n",
        "from sklearn.preprocessing import normalize\n",
        "import gc\n",
        "import matplotlib.pyplot as plt\n",
        "%matplotlib inline\n",
        "from sklearn.metrics.pairwise import cosine_similarity\n",
        "import seaborn as sns\n",
        "\n",
        "def U_Matrix(n,k):\n",
        "  scaler = StandardScaler()\n",
        "  np.random.seed(10)\n",
        " \n",
        "  um= np.single(np.random.rand(n, k))# randomly initialize User Matrix\n",
        "  um = normalize(um, norm='l2')\n",
        "  return um"
      ],
      "execution_count": null,
      "outputs": []
    },
    {
      "cell_type": "markdown",
      "metadata": {
        "id": "vCFcXcyPKY1C"
      },
      "source": [
        "# **Error Calculation**"
      ]
    },
    {
      "cell_type": "code",
      "metadata": {
        "id": "NcnL_wZInF2C"
      },
      "source": [
        "def CalculateError(m):\n",
        "  mseVal= (np.square(np.abs(fdf-m)))\n",
        "  mseList = mseVal.to_numpy()\n",
        "  sumVal = np.nansum(mseList)\n",
        "  dataCount = sum(fdf.count())\n",
        "  error = sumVal/dataCount\n",
        "  return(error)\n",
        "  "
      ],
      "execution_count": null,
      "outputs": []
    },
    {
      "cell_type": "markdown",
      "metadata": {
        "id": "j5PsV-hXKfnq"
      },
      "source": [
        "# **Implementation**"
      ]
    },
    {
      "cell_type": "code",
      "metadata": {
        "id": "iNISM53Hj8VU"
      },
      "source": [
        "def Matrix_factorization(k,n,lamda_u,lamda_v):\n",
        "  error=0.4\n",
        "  iteration = 50\n",
        "  X_axis=[]\n",
        "  Y_axis=[]\n",
        "  U_matrix = U_Matrix(n,k)\n",
        "\n",
        "  for i in range(iteration):\n",
        "    X_axis.append(i)\n",
        "    print(\"\\n\\n     Iteration\",i+1)\n",
        "    V_matrix= np.single(np.dot(np.linalg.inv(np.dot(U_matrix.T,U_matrix)+lamda_V*np.identity(k)),(np.dot(fdf.T,U_matrix)).T))\n",
        "    U_matrix= np.single((np.dot(np.linalg.inv(np.dot(V_matrix,V_matrix.T)+lamda_U*np.identity(k)),(np.dot(fdf,V_matrix.T)).T)).T)\n",
        "    X_matrix= np.dot(U_matrix,V_matrix)\n",
        "    mse= CalculateError(X_matrix)\n",
        "    if mse<error:\n",
        "      print(mse,'-----',error)\n",
        "      Y_axis.append(error)\n",
        "      break\n",
        "    elif mse>=error:\n",
        "      print(mse,'-----',error)\n",
        "      Y_axis.append(mse)\n",
        "  return X_axis,Y_axis,U_matrix,V_matrix,X_matrix\n",
        " "
      ],
      "execution_count": null,
      "outputs": []
    },
    {
      "cell_type": "markdown",
      "metadata": {
        "id": "N9zYzIIQKlSg"
      },
      "source": [
        "# **Initialization and Result Generation**"
      ]
    },
    {
      "cell_type": "code",
      "metadata": {
        "id": "GRypNPsrm5kn"
      },
      "source": [
        "import math as m\n",
        "k=5000\n",
        "N=fdf.shape[0]\n",
        "print(\"N:\",N,\"K:\",k)\n",
        "lamda_U=(0.00015 + 0.0001*(index_id % 8))\n",
        "lamda_V=(0.00025 + 0.0001*(index_id % 7))\n",
        "X_axis,Y_axis,u_matrix,v_matrix,x_matrix = Matrix_factorization(k,N,lamda_U,lamda_V)\n"
      ],
      "execution_count": null,
      "outputs": []
    },
    {
      "cell_type": "markdown",
      "metadata": {
        "id": "JbL7pPfFtXJI"
      },
      "source": [
        "### **Converting the output matrix to Dataframe**"
      ]
    },
    {
      "cell_type": "code",
      "metadata": {
        "id": "0WSKpHWjtSzY"
      },
      "source": [
        "outputXMatrix = pd.DataFrame(x_matrix,index=fdf.index)\n",
        "outputXMatrix = outputXMatrix.sort_index()\n",
        "outputXMatrix.shape"
      ],
      "execution_count": null,
      "outputs": []
    },
    {
      "cell_type": "code",
      "metadata": {
        "id": "K_zjF1DqtWDm"
      },
      "source": [
        "outputXMatrix.shape\n",
        "outputXMatrix.to_csv('OutputMatrix.csv')\n",
        "from google.colab import files\n",
        "files.download('OutputMatrix.csv')"
      ],
      "execution_count": null,
      "outputs": []
    },
    {
      "cell_type": "markdown",
      "metadata": {
        "id": "99HM6h8rV9eJ"
      },
      "source": [
        "## Plots"
      ]
    },
    {
      "cell_type": "code",
      "metadata": {
        "id": "9u1iz83RWCgb"
      },
      "source": [
        "plt.plot(X_axis,Y_axis,color = 'maroon',label=\"K=\"+str(k))\n",
        "plt.legend()\n",
        "plt.xlabel(\"Iteration\")\n",
        "plt.ylabel(\"MSE\")\n",
        "plt.legend()\n",
        "plt.grid(color = 'gray', linestyle = 'solid', linewidth = 0.5)\n",
        "plt.tight_layout()\n",
        "from google.colab import files\n",
        "plt.savefig(\"abc.png\",dpi=199)\n",
        "files.download(\"abc.png\") "
      ],
      "execution_count": null,
      "outputs": []
    },
    {
      "cell_type": "markdown",
      "metadata": {
        "id": "BJpszX87Vkkw"
      },
      "source": [
        "# **Movie Recommendation**"
      ]
    },
    {
      "cell_type": "code",
      "metadata": {
        "id": "91HJEDesVfLS"
      },
      "source": [
        "import math as m\n",
        "\n",
        "def RecommendMovies(x_matrix,user):\n",
        "    movie=[]\n",
        "    rating=[]\n",
        "    realDataset = df.iloc[user-1] \n",
        "    IndexList = realDataset.index.to_list()\n",
        "    for i in range(1, len(IndexList)):\n",
        "      IndexList[i] = int(IndexList[i])\n",
        "    orginalMatrix = list(zip(IndexList,realDataset))\n",
        "    suggestedMatrix = x_matrix.iloc[user-1]\n",
        "    IndexList_XMatrix = x_matrix.index.to_list()\n",
        "    predicted = list(zip(IndexList_XMatrix,suggestedMatrix))\n",
        "    for i in range (len(IndexList)):\n",
        "      if m.isnan(orginalMatrix[i][1]):\n",
        "        movie.append(predicted[i-1][0])\n",
        "        rating.append(predicted[i][1])\n",
        "        \n",
        "    print(\"5 Movie suggestion for User\",user,\"is :\")\n",
        "    noOfMovies=5\n",
        "    MovieWithRating=list(zip(movie,rating))\n",
        "    Suggestion = sorted(MovieWithRating, key = lambda x: x[1], reverse = True)[:noOfMovies]\n",
        "    for i, mv in enumerate(Suggestion, start=1):\n",
        "      print(i,\". \", mv[0], mv[1])\n"
      ],
      "execution_count": null,
      "outputs": []
    },
    {
      "cell_type": "code",
      "metadata": {
        "id": "phYdUXmCV0-A"
      },
      "source": [
        "UserList = df.index.tolist()\n",
        "X = pd.DataFrame(x_matrix,index=fdf.index)\n",
        "X = X.sort_index()"
      ],
      "execution_count": null,
      "outputs": []
    },
    {
      "cell_type": "code",
      "metadata": {
        "id": "Oau-_K-9V12J"
      },
      "source": [
        "user=1050\n",
        "if(user in UserList):\n",
        "  RecommendMovies(X,user)\n",
        "else:\n",
        "  print(\"User Not Found\")"
      ],
      "execution_count": null,
      "outputs": []
    },
    {
      "cell_type": "markdown",
      "metadata": {
        "id": "Zdy1cCJ3mRun"
      },
      "source": [
        "# **Cosine Similarity**"
      ]
    },
    {
      "cell_type": "code",
      "metadata": {
        "id": "SDH5gLoQmEiD"
      },
      "source": [
        "def CosineSimilarityUsers(U):\n",
        "  p = cosine_similarity(U.T)\n",
        "  plt.figure(figsize = (20,20))\n",
        "  hu=sns.heatmap(p,annot=True)\n",
        "def CosineSimilarityMovies(V):\n",
        "  q = cosine_similarity(V)\n",
        "  plt.figure(figsize = (20,20))\n",
        "  hm=sns.heatmap(q,annot=True)\n"
      ],
      "execution_count": null,
      "outputs": []
    },
    {
      "cell_type": "code",
      "metadata": {
        "id": "oD_iyRpymEGC"
      },
      "source": [
        "CosineSimilarityUsers(u_matrix)\n",
        "CosineSimilarityMovies(v_matrix)"
      ],
      "execution_count": null,
      "outputs": []
    }
  ]
}